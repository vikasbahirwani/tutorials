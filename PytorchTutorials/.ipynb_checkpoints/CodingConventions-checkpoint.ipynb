{
 "cells": [
  {
   "cell_type": "markdown",
   "metadata": {},
   "source": [
    "Coding Conventions taken from https://www.python.org/dev/peps/pep-0008/?#naming-conventions"
   ]
  },
  {
   "cell_type": "markdown",
   "metadata": {},
   "source": [
    "ALL_CAPITAL_LETTERS\n",
    "- Constants\n",
    "\n",
    "CamelCase\n",
    "- Class names\n",
    "\n",
    "lower_case_with_underscores\n",
    "- Global variable names\n",
    "- Local variable names\n",
    "- Function names\n",
    "\n",
    "_leading_underscore\n",
    "- non-public methods\n",
    "- non-public instance variables\n",
    "\n",
    "\\__double_leading_trailing_underscores_\n",
    "- special variables or methods like \\__init__ \\__file__"
   ]
  },
  {
   "cell_type": "code",
   "execution_count": 11,
   "metadata": {},
   "outputs": [],
   "source": [
    "# example of these conventions as well as of properties in python\n",
    "# think properties as a way to implement private variables with getters and setters\n",
    "\n",
    "AGE_CONSTANT = 30\n",
    "\n",
    "class Geek:\n",
    "    \n",
    "    def __init__(self, name, hidden_name): \n",
    "        self.first_name = name\n",
    "        self.age = AGE_CONSTANT\n",
    "        self.hidden = hidden_name\n",
    "        \n",
    "    def get_hidden(self):\n",
    "        print('getter called')\n",
    "        return self._hidden\n",
    "    \n",
    "    def set_hidden(self, hidden_name):\n",
    "        print('setter called')\n",
    "        self._hidden = hidden_name\n",
    "    \n",
    "    hidden = property(get_hidden, set_hidden)"
   ]
  },
  {
   "cell_type": "code",
   "execution_count": 12,
   "metadata": {},
   "outputs": [
    {
     "name": "stdout",
     "output_type": "stream",
     "text": [
      "setter called\n"
     ]
    }
   ],
   "source": [
    "geek_instance = Geek(\"Vikas\", \"Ramesh\")"
   ]
  },
  {
   "cell_type": "code",
   "execution_count": 13,
   "metadata": {},
   "outputs": [
    {
     "name": "stdout",
     "output_type": "stream",
     "text": [
      "Ramesh\n"
     ]
    }
   ],
   "source": [
    "# though private variables are accessible techinically\n",
    "# you should not use them\n",
    "print(geek_instance._hidden)"
   ]
  },
  {
   "cell_type": "code",
   "execution_count": 14,
   "metadata": {},
   "outputs": [
    {
     "name": "stdout",
     "output_type": "stream",
     "text": [
      "getter called\n",
      "Ramesh\n"
     ]
    }
   ],
   "source": [
    "# use property instead\n",
    "print(geek_instance.hidden)"
   ]
  },
  {
   "cell_type": "code",
   "execution_count": 15,
   "metadata": {},
   "outputs": [
    {
     "name": "stdout",
     "output_type": "stream",
     "text": [
      "Vikas\n",
      "30\n"
     ]
    }
   ],
   "source": [
    "print(geek_instance.first_name)\n",
    "print(geek_instance.age)"
   ]
  }
 ],
 "metadata": {
  "kernelspec": {
   "display_name": "Python 3",
   "language": "python",
   "name": "python3"
  },
  "language_info": {
   "codemirror_mode": {
    "name": "ipython",
    "version": 3
   },
   "file_extension": ".py",
   "mimetype": "text/x-python",
   "name": "python",
   "nbconvert_exporter": "python",
   "pygments_lexer": "ipython3",
   "version": "3.6.5"
  }
 },
 "nbformat": 4,
 "nbformat_minor": 2
}
