{
 "cells": [
  {
   "cell_type": "markdown",
   "metadata": {},
   "source": [
    "Tutorial URL: https://pytorch.org/tutorials/intermediate/char_rnn_classification_tutorial.html"
   ]
  },
  {
   "cell_type": "markdown",
   "metadata": {},
   "source": [
    "# Classifying Names with a Character-Level RNN"
   ]
  },
  {
   "cell_type": "code",
   "execution_count": 266,
   "metadata": {},
   "outputs": [
    {
     "data": {
      "text/plain": [
       "device(type='cuda')"
      ]
     },
     "execution_count": 266,
     "metadata": {},
     "output_type": "execute_result"
    }
   ],
   "source": [
    "# preamble \n",
    "from io import open\n",
    "import unicodedata\n",
    "import glob\n",
    "import string\n",
    "import re\n",
    "import random\n",
    "import os\n",
    "import time\n",
    "import math\n",
    "import matplotlib.pyplot as plt\n",
    "import matplotlib.ticker as ticker\n",
    "\n",
    "import torch\n",
    "import torch.nn as nn\n",
    "from torch import optim\n",
    "import torch.nn.functional as F\n",
    "\n",
    "device = torch.device(\"cuda\" if torch.cuda.is_available() else \"cpu\")\n",
    "device"
   ]
  },
  {
   "cell_type": "code",
   "execution_count": 232,
   "metadata": {},
   "outputs": [
    {
     "name": "stdout",
     "output_type": "stream",
     "text": [
      "18\n"
     ]
    }
   ],
   "source": [
    "data_folder = \"../../../data/pytorchTutorials/data/names\"\n",
    "\n",
    "files = glob.glob(data_folder + '/[A-Z][A-Za-z]*.txt')\n",
    "# print(files)\n",
    "print(len(files))"
   ]
  },
  {
   "cell_type": "code",
   "execution_count": 233,
   "metadata": {},
   "outputs": [],
   "source": [
    "# all_letters is a string composed of alphabets (lower, upper), spac and .,;\n",
    "all_letters = string.ascii_letters + \" .,;'\"\n",
    "letter_to_index = {k:v for v,k in enumerate(all_letters)}\n",
    "n_letters = len(all_letters)\n",
    "\n",
    "# Turn a Unicode string to plain ASCII, thanks to\n",
    "# http://stackoverflow.com/a/518232/2809427\n",
    "# Mn means mark-nonspacing. Accents belong to this category\n",
    "def unicodeToAscii(s):\n",
    "    return ''.join(\n",
    "        c for c in unicodedata.normalize('NFD', s)\n",
    "        if unicodedata.category(c) != 'Mn'\n",
    "        and c in all_letters\n",
    "    )\n",
    "\n",
    "# s = u'What are ? you .!?-_^&* doing - in vikas-bahriwani. Málaga'\n",
    "# unicodeToAscii(s)\n",
    "# Output: 'What are  you . doing  in vikasbahriwani. Malaga'"
   ]
  },
  {
   "cell_type": "code",
   "execution_count": 234,
   "metadata": {},
   "outputs": [],
   "source": [
    "# reading files and creating dictionary\n",
    "# dictionary is called category for extensibility of the code that comes later\n",
    "\n",
    "def read_files(filenames):\n",
    "    category_lines = {}\n",
    "    all_categories = []\n",
    "    \n",
    "    for filename in filenames:\n",
    "        category = os.path.splitext(filename)[0].split('/')[-1]\n",
    "        all_categories.append(category)\n",
    "        with open(filename, encoding='utf8') as file:\n",
    "            lines = file.read().strip().split('\\n')\n",
    "            lines = [unicodeToAscii(line) for line in lines]\n",
    "            category_lines[category] = lines\n",
    "\n",
    "    return category_lines, all_categories"
   ]
  },
  {
   "cell_type": "code",
   "execution_count": 235,
   "metadata": {},
   "outputs": [
    {
     "name": "stdout",
     "output_type": "stream",
     "text": [
      "['Spanish', 'Korean', 'Italian', 'German', 'Irish', 'Vietnamese', 'Arabic', 'Greek', 'Chinese', 'English', 'Polish', 'Japanese', 'Russian', 'French', 'Scottish', 'Portuguese', 'Dutch', 'Czech']\n",
      "18\n",
      "['Abandonato', 'Abatangelo', 'Abatantuono', 'Abate', 'Abategiovanni']\n"
     ]
    }
   ],
   "source": [
    "category_lines, all_categories = read_files(files)\n",
    "# print(category_lines)\n",
    "print(all_categories)\n",
    "n_categories = len(all_categories)\n",
    "print(n_categories)\n",
    "print(category_lines['Italian'][:5])"
   ]
  },
  {
   "cell_type": "code",
   "execution_count": 236,
   "metadata": {},
   "outputs": [],
   "source": [
    "# converting a given line aka word aka name to a tensor\n",
    "# len(line) x 1 x n_letters\n",
    "# the tutorial uses the middle dimension as batch which is odd lets see if we can change that to first dimension\n",
    "\n",
    "def line_to_tensor(line):\n",
    "    tensor = torch.zeros(len(line), 1, n_letters)\n",
    "    for index, letter in enumerate(line):\n",
    "        tensor[index,0,letter_to_index[letter]] = 1\n",
    "    \n",
    "    return tensor"
   ]
  },
  {
   "cell_type": "code",
   "execution_count": 237,
   "metadata": {},
   "outputs": [
    {
     "data": {
      "text/plain": [
       "tensor([[ 0.0159,  0.1173,  0.8668],\n",
       "        [ 0.0159,  0.1173,  0.8668]])"
      ]
     },
     "execution_count": 237,
     "metadata": {},
     "output_type": "execute_result"
    }
   ],
   "source": [
    "test=torch.tensor([[1.0,3.0,5.0],[2.0,4.0,6.0]])\n",
    "\n",
    "p = torch.nn.functional.softmax\n",
    "p(test,dim=1)"
   ]
  },
  {
   "cell_type": "code",
   "execution_count": 238,
   "metadata": {},
   "outputs": [],
   "source": [
    "# RNNPrescribed is the RNN as prescribed in the tutorial. It has the following characteristics:\n",
    "# LogSoftmax\n",
    "# Linear Layers, no non-linearities\n",
    "# Note: The tutorial expects output to be based on input+hidden but I think that was a mistake \n",
    "# The textbook example of RNN is output = LogSoftmax(newly computed hidden)\n",
    "# so that's how we will implement this class.\n",
    "class RNNPrescribed(nn.Module):\n",
    "    def __init__(self, input_size, hidden_size, output_size, allow_bias = False):\n",
    "        super(RNNPrescribed, self).__init__()\n",
    "        self.hidden_size = hidden_size\n",
    "        self.i2h = nn.Linear(input_size + hidden_size, hidden_size, allow_bias)\n",
    "        self.h2o = nn.Linear(hidden_size, output_size, allow_bias)\n",
    "        self.softmax = nn.LogSoftmax(dim = 1)\n",
    "    \n",
    "    def forward(self, input, previous_hidden):\n",
    "        combined = torch.cat((input, previous_hidden), dim = 1)\n",
    "        hidden = self.i2h(combined)\n",
    "        logits = self.h2o(hidden)\n",
    "        log_probabilities = self.softmax(logits)\n",
    "        \n",
    "        return log_probabilities, logits, hidden\n",
    "    \n",
    "    def init_hidden(self):\n",
    "        return torch.zeros(1, self.hidden_size)"
   ]
  },
  {
   "cell_type": "code",
   "execution_count": 239,
   "metadata": {},
   "outputs": [],
   "source": [
    "# RNNMine is my RNN implementation as learned in CS224N. It has the following characteristics:\n",
    "# Regular softmax is used. Logits returned can be used with Cross Entropy loss\n",
    "# Linear Layers with ReLU non linearity\n",
    "# Though one can use ReLU as a layer (nn.ReLU) or from torch.nn.functional \n",
    "# - we will use the latter for it makes more sense from how we have seen it in theory\n",
    "# - It that should not make much of a difference in results\n",
    "class RNNMine(nn.Module):\n",
    "    def __init__(self, input_size, hidden_size, output_size, allow_bias = False):\n",
    "        super(RNNMine, self).__init__()\n",
    "        self.hidden_size = hidden_size\n",
    "        self.i2h = nn.Linear(input_size + hidden_size, hidden_size, allow_bias)\n",
    "        self.h2o = nn.Linear(hidden_size, output_size, allow_bias)\n",
    "        self.softmax = nn.Softmax(dim = 1)\n",
    "    \n",
    "    def forward(self, input, previous_hidden):\n",
    "        combined = torch.cat((input, previous_hidden), dim = 1)\n",
    "        z_t = self.i2h(combined)\n",
    "        h_t = F.relu(z_t)\n",
    "        logits = self.h2o(h_t)\n",
    "        probabilities = self.softmax(logits)\n",
    "        \n",
    "        return probabilities, logits, h_t\n",
    "    \n",
    "    def init_hidden(self):\n",
    "        return torch.zeros(1, self.hidden_size)"
   ]
  },
  {
   "cell_type": "code",
   "execution_count": 240,
   "metadata": {},
   "outputs": [],
   "source": [
    "# use these lines to test code with one example\n",
    "\n",
    "# hidden_size = 128\n",
    "# rnn = RNNPrescribed(n_letters, hidden_size, n_categories)\n",
    "# input = line_to_tensor(\"Vikas\")\n",
    "# previous_hidden = torch.zeros(1, hidden_size)\n",
    "\n",
    "# prob, logits, hidden = rnn.forward(input[0], previous_hidden)\n",
    "# print(prob)\n",
    "# print(logits)\n",
    "# print(hidden)\n",
    "\n",
    "# input = line_to_tensor(\"Vikas\")\n",
    "# previous_hidden = torch.zeros(1, hidden_size)\n",
    "\n",
    "# def passthrough(x):\n",
    "#     return x\n",
    "\n",
    "# rnn2 = RNNMine(n_letters, hidden_size, n_categories)\n",
    "# prob, logits, hidden = rnn2.forward(input[0], previous_hidden)\n",
    "# print(prob)\n",
    "# print(logits)\n",
    "# print(hidden)"
   ]
  },
  {
   "cell_type": "code",
   "execution_count": 241,
   "metadata": {},
   "outputs": [],
   "source": [
    "def categories_from_probabilities(probabilities):\n",
    "    elements, indices = torch.topk(probabilities, 1)\n",
    "    index = indices[0].item()\n",
    "    category = all_categories[index]\n",
    "    \n",
    "    return category, index"
   ]
  },
  {
   "cell_type": "code",
   "execution_count": 242,
   "metadata": {},
   "outputs": [],
   "source": [
    "# Helper functions to get training examples easily. \n",
    "# This could be more efficient but \n",
    "def random_choice(input_list):\n",
    "    \"\"\"Returns random index from the list and corresponding element\"\"\"\n",
    "    \n",
    "    random_index = random.randint(0, len(input_list) -1)\n",
    "    return random_index, input_list[random_index]\n",
    "\n",
    "def random_training_example():\n",
    "    category_index, category = random_choice(all_categories)\n",
    "    _,line = random_choice(category_lines[category])\n",
    "    category_tensor = torch.tensor([category_index], dtype = torch.long)\n",
    "    line_tensor = line_to_tensor(line)\n",
    "    \n",
    "    return category, line, category_tensor, line_tensor"
   ]
  },
  {
   "cell_type": "code",
   "execution_count": 262,
   "metadata": {},
   "outputs": [],
   "source": [
    "LEARNING_RATE = 0.005\n",
    "HIDDEN_SIZE = 128\n",
    "\n",
    "# think of criterion as instance of loss function\n",
    "# default reduction is element_wise mean i.e. avg over all classes\n",
    "#criterion = nn.NLLLoss()\n",
    "criterion = nn.CrossEntropyLoss()\n",
    "\n",
    "def train(category_tensor, line_tensor, rnn):\n",
    "    hidden = rnn.init_hidden()\n",
    "    rnn.zero_grad()\n",
    "    \n",
    "    for li in range(line_tensor.size()[0]):\n",
    "        probabilities, logits, hidden = rnn(line_tensor[li], hidden)\n",
    "      \n",
    "    # this line works with NLLLoss\n",
    "    # loss = criterion(probabilities, category_tensor)\n",
    "    \n",
    "    # this line works with CrossEntropyLoss\n",
    "    loss = criterion(logits, category_tensor)\n",
    "    loss.backward()\n",
    "    \n",
    "    # TODO: See if using optim makes a difference?\n",
    "    # e.g. initialize optimizer = torch.optim.SGD(model.parameters(), lr = learning_rate, momentum=0.9)\n",
    "    # then instead of the following do optimizer.step()\n",
    "    with torch.no_grad():\n",
    "        for param in rnn.parameters():\n",
    "            param -= LEARNING_RATE * param.grad\n",
    "            \n",
    "    return probabilities, loss.item()\n",
    "        \n",
    "    "
   ]
  },
  {
   "cell_type": "code",
   "execution_count": 263,
   "metadata": {},
   "outputs": [
    {
     "name": "stdout",
     "output_type": "stream",
     "text": [
      "5000 5% (0m 3s) 2.5979 Lobo / Japanese ✗ (Spanish)\n",
      "10000 10% (0m 7s) 2.7675 Watt / French ✗ (English)\n",
      "15000 15% (0m 11s) 1.5292 Vu / Vietnamese ✓\n",
      "20000 20% (0m 15s) 0.3537 Naomhan / Irish ✓\n",
      "25000 25% (0m 18s) 1.5555 Koo / Korean ✗ (Chinese)\n",
      "30000 30% (0m 22s) 0.6869 Ganim / Arabic ✓\n",
      "35000 35% (0m 26s) 0.5951 Abandonato / Italian ✓\n",
      "40000 40% (0m 30s) 1.3030 Kasimor / Czech ✓\n",
      "45000 45% (0m 34s) 1.7023 Santos / Greek ✗ (Portuguese)\n",
      "50000 50% (0m 38s) 1.0300 Trinh / Vietnamese ✓\n",
      "55000 55% (0m 41s) 4.3125 Samuel / Arabic ✗ (Irish)\n",
      "60000 60% (0m 45s) 0.1736 Makino / Japanese ✓\n",
      "65000 65% (0m 49s) 0.5990 Sugawara / Japanese ✓\n",
      "70000 70% (0m 53s) 0.7596 Trang / Vietnamese ✓\n",
      "75000 75% (0m 57s) 2.4346 Poulter / French ✗ (English)\n",
      "80000 80% (1m 1s) 0.5191 Accardo / Italian ✓\n",
      "85000 85% (1m 5s) 3.5785 Lu / Vietnamese ✗ (Chinese)\n",
      "90000 90% (1m 9s) 0.2292 Chau / Vietnamese ✓\n",
      "95000 95% (1m 12s) 0.9475 Abboud / French ✗ (Arabic)\n",
      "100000 100% (1m 16s) 0.2094 Ryom / Korean ✓\n"
     ]
    }
   ],
   "source": [
    "n_iters = 100000\n",
    "print_every = 5000\n",
    "plot_every = 1000\n",
    "\n",
    "rnn = RNNPrescribed(n_letters, HIDDEN_SIZE, n_categories)\n",
    "\n",
    "# Keep track of losses for plotting\n",
    "current_loss = 0\n",
    "all_losses = []\n",
    "\n",
    "def timeSince(since):\n",
    "    now = time.time()\n",
    "    s = now - since\n",
    "    m = math.floor(s / 60)\n",
    "    s -= m * 60\n",
    "    return '%dm %ds' % (m, s)\n",
    "\n",
    "start = time.time()\n",
    "\n",
    "for iter in range(1, n_iters + 1):\n",
    "    category, line, category_tensor, line_tensor = random_training_example()\n",
    "    probabilities, loss = train(category_tensor, line_tensor, rnn)\n",
    "    current_loss += loss\n",
    "\n",
    "    # Print iter number, loss, name and guess\n",
    "    if iter % print_every == 0:\n",
    "        guess, guess_i = categories_from_probabilities(probabilities)\n",
    "        correct = '✓' if guess == category else '✗ (%s)' % category\n",
    "        print('%d %d%% (%s) %.4f %s / %s %s' % (iter, iter / n_iters * 100, timeSince(start), loss, line, guess, correct))\n",
    "\n",
    "    # Add current loss avg to list of losses\n",
    "    if iter % plot_every == 0:\n",
    "        all_losses.append(current_loss / plot_every)\n",
    "        current_loss = 0"
   ]
  },
  {
   "cell_type": "code",
   "execution_count": 267,
   "metadata": {},
   "outputs": [
    {
     "name": "stdout",
     "output_type": "stream",
     "text": [
      "[<matplotlib.lines.Line2D object at 0x7fa8b6dc7748>]\n"
     ]
    },
    {
     "data": {
      "image/png": "[encoded data removed]",
      "text/plain": [
       "<Figure size 432x288 with 1 Axes>"
      ]
     },
     "metadata": {},
     "output_type": "display_data"
    }
   ],
   "source": [
    "plt.figure()\n",
    "print(plt.plot(all_losses))"
   ]
  },
  {
   "cell_type": "code",
   "execution_count": 272,
   "metadata": {},
   "outputs": [],
   "source": [
    "def evaluate(category_tensor, line_tensor, rnn):\n",
    "    hidden = rnn.init_hidden()\n",
    "\n",
    "    for li in range(line_tensor.size()[0]):\n",
    "        probabilities, logits, hidden = rnn(line_tensor[li], hidden)\n",
    "            \n",
    "    return probabilities"
   ]
  },
  {
   "cell_type": "code",
   "execution_count": 273,
   "metadata": {},
   "outputs": [],
   "source": [
    "confusion = torch.zeros(n_categories, n_categories)\n",
    "n_confusion = 10000\n",
    "\n",
    "for i in range(n_confusion):\n",
    "    category, line, category_tensor, line_tensor = random_training_example()\n",
    "    probabilities = evaluate(category_tensor, line_tensor, rnn)\n",
    "    actual_index = category_tensor.item()\n",
    "    predicted_text, predicted_index = categories_from_probabilities(probabilities)\n",
    "    \n",
    "    confusion[actual_index][predicted_index] += 1\n",
    "\n",
    "# Normalize by dividing every row by its sum\n",
    "for i in range(n_categories):\n",
    "    confusion[i] = confusion[i] / confusion[i].sum()"
   ]
  },
  {
   "cell_type": "code",
   "execution_count": 274,
   "metadata": {},
   "outputs": [
    {
     "data": {
      "image/png": "[encoded data removed]",
      "text/plain": [
       "<Figure size 432x288 with 2 Axes>"
      ]
     },
     "metadata": {},
     "output_type": "display_data"
    }
   ],
   "source": [
    "# Set up plot\n",
    "fig = plt.figure()\n",
    "ax = fig.add_subplot(111)\n",
    "cax = ax.matshow(confusion.numpy())\n",
    "fig.colorbar(cax)\n",
    "\n",
    "# Set up axes\n",
    "ax.set_xticklabels([''] + all_categories, rotation=90)\n",
    "ax.set_yticklabels([''] + all_categories)\n",
    "\n",
    "# Force label at every tick\n",
    "ax.xaxis.set_major_locator(ticker.MultipleLocator(1))\n",
    "ax.yaxis.set_major_locator(ticker.MultipleLocator(1))\n",
    "\n",
    "# sphinx_gallery_thumbnail_number = 2\n",
    "plt.show()"
   ]
  },
  {
   "cell_type": "code",
   "execution_count": null,
   "metadata": {},
   "outputs": [],
   "source": []
  }
 ],
 "metadata": {
  "kernelspec": {
   "display_name": "Python 3",
   "language": "python",
   "name": "python3"
  },
  "language_info": {
   "codemirror_mode": {
    "name": "ipython",
    "version": 3
   },
   "file_extension": ".py",
   "mimetype": "text/x-python",
   "name": "python",
   "nbconvert_exporter": "python",
   "pygments_lexer": "ipython3",
   "version": "3.6.5"
  }
 },
 "nbformat": 4,
 "nbformat_minor": 2
}
