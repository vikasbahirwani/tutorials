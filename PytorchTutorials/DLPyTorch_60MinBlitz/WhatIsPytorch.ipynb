{
 "cells": [
  {
   "cell_type": "markdown",
   "metadata": {},
   "source": [
    "Tutorial URL: https://pytorch.org/tutorials/beginner/blitz/tensor_tutorial.html#sphx-glr-beginner-blitz-tensor-tutorial-py"
   ]
  },
  {
   "cell_type": "markdown",
   "metadata": {},
   "source": [
    "#  Deep Learning with PyTorch: A 60 Minute Blitz » What is PyTorch?"
   ]
  },
  {
   "cell_type": "code",
   "execution_count": 80,
   "metadata": {},
   "outputs": [],
   "source": [
    "# preamble\n",
    "import torch\n",
    "import numpy as np"
   ]
  },
  {
   "cell_type": "markdown",
   "metadata": {},
   "source": [
    "## 1. Creating Tensors"
   ]
  },
  {
   "cell_type": "code",
   "execution_count": 81,
   "metadata": {},
   "outputs": [
    {
     "name": "stdout",
     "output_type": "stream",
     "text": [
      "tensor([[ 0.0000,  0.0000,  0.0000],\n",
      "        [ 0.0000,  0.0000,  0.0000],\n",
      "        [ 0.0000,  0.0000,  0.0000],\n",
      "        [ 0.0000,  0.0000,  0.0000],\n",
      "        [ 0.0000,  0.8443,  0.0000]])\n",
      "tensor([[ 0.9423,  0.3261,  0.1387],\n",
      "        [ 0.0299,  0.1679,  0.5785],\n",
      "        [ 0.2708,  0.7301,  0.2546],\n",
      "        [ 0.8891,  0.2738,  0.9854],\n",
      "        [ 0.0211,  0.7829,  0.3375]])\n",
      "tensor([[ 0,  0,  0],\n",
      "        [ 0,  0,  0],\n",
      "        [ 0,  0,  0],\n",
      "        [ 0,  0,  0],\n",
      "        [ 0,  0,  0]])\n"
     ]
    }
   ],
   "source": [
    "x = torch.empty(5,3)\n",
    "print(x)\n",
    "\n",
    "x = torch.rand(5,3)\n",
    "print(x)\n",
    "\n",
    "x = torch.zeros(5,3, dtype=torch.long)\n",
    "print(x)"
   ]
  },
  {
   "cell_type": "code",
   "execution_count": 82,
   "metadata": {},
   "outputs": [
    {
     "name": "stdout",
     "output_type": "stream",
     "text": [
      "tensor([[ 5,  4,  3],\n",
      "        [ 2,  1,  3]])\n",
      "tensor([[ 1,  1,  1],\n",
      "        [ 1,  1,  1],\n",
      "        [ 1,  1,  1],\n",
      "        [ 1,  1,  1],\n",
      "        [ 1,  1,  1]])\n",
      "tensor([[ 1.,  1.,  1.,  1.],\n",
      "        [ 1.,  1.,  1.,  1.],\n",
      "        [ 1.,  1.,  1.,  1.],\n",
      "        [ 1.,  1.,  1.,  1.],\n",
      "        [ 1.,  1.,  1.,  1.]])\n",
      "tensor([[ 0.0647,  0.2321,  0.0656,  0.5289],\n",
      "        [ 0.4121,  0.5446,  0.3185,  0.9184],\n",
      "        [ 0.7062,  0.0166,  0.8022,  0.6583],\n",
      "        [ 0.5018,  0.4282,  0.0181,  0.9692],\n",
      "        [ 0.4918,  0.9432,  0.7793,  0.7541]])\n",
      "tensor([[ 0.4776,  0.2803,  0.3562,  0.3191],\n",
      "        [ 0.7131,  0.5154,  0.8778,  0.7412],\n",
      "        [ 0.1402,  0.8723,  0.4108,  0.3885],\n",
      "        [ 0.4872,  0.7408,  0.1075,  0.6395],\n",
      "        [ 0.2368,  0.6319,  0.7364,  0.4456]], dtype=torch.float64)\n"
     ]
    }
   ],
   "source": [
    "x = torch.tensor([[5,4,3], [2,1,3]])\n",
    "print(x)\n",
    "\n",
    "x = x.new_ones(5,3) # new_* methods take in sizes\n",
    "print(x)\n",
    "\n",
    "x = x.new_ones(5,4, dtype=torch.float)\n",
    "print(x)\n",
    "\n",
    "x = torch.rand_like(x)\n",
    "print(x)\n",
    "\n",
    "x = torch.rand_like(x, dtype=torch.double)\n",
    "print(x)"
   ]
  },
  {
   "cell_type": "code",
   "execution_count": 83,
   "metadata": {},
   "outputs": [
    {
     "name": "stdout",
     "output_type": "stream",
     "text": [
      "<class 'torch.Tensor'>\n",
      "torch.float64\n",
      "torch.Size([5, 4])\n",
      "torch.Size([5, 4])\n",
      "4\n"
     ]
    }
   ],
   "source": [
    "print(type(x))\n",
    "print(x.dtype)\n",
    "print(x.shape)\n",
    "print(x.size())\n",
    "print(x.shape[1])\n",
    "\n",
    "# torch.Size is in fact a tuple, so it supports all tuple operations."
   ]
  },
  {
   "cell_type": "markdown",
   "metadata": {},
   "source": [
    "## 2 Operations"
   ]
  },
  {
   "cell_type": "code",
   "execution_count": 84,
   "metadata": {},
   "outputs": [
    {
     "name": "stdout",
     "output_type": "stream",
     "text": [
      "tensor([[ 0.7188,  0.5968,  0.6259,  0.3194],\n",
      "        [ 0.6302,  0.1865,  0.9464,  0.6626],\n",
      "        [ 0.0088,  0.2570,  0.4421,  0.0703],\n",
      "        [ 0.8153,  0.4359,  0.6574,  0.6764],\n",
      "        [ 0.3436,  0.8716,  0.7304,  0.3576]], dtype=torch.float64)\n"
     ]
    }
   ],
   "source": [
    "y = torch.rand_like(x)\n",
    "print(y)"
   ]
  },
  {
   "cell_type": "code",
   "execution_count": 85,
   "metadata": {},
   "outputs": [
    {
     "name": "stdout",
     "output_type": "stream",
     "text": [
      "tensor([[ 1.1964,  0.8771,  0.9822,  0.6385],\n",
      "        [ 1.3432,  0.7019,  1.8241,  1.4038],\n",
      "        [ 0.1490,  1.1293,  0.8530,  0.4588],\n",
      "        [ 1.3024,  1.1767,  0.7650,  1.3159],\n",
      "        [ 0.5804,  1.5035,  1.4667,  0.8033]], dtype=torch.float64)\n",
      "tensor([[ 1.1964,  0.8771,  0.9822,  0.6385],\n",
      "        [ 1.3432,  0.7019,  1.8241,  1.4038],\n",
      "        [ 0.1490,  1.1293,  0.8530,  0.4588],\n",
      "        [ 1.3024,  1.1767,  0.7650,  1.3159],\n",
      "        [ 0.5804,  1.5035,  1.4667,  0.8033]], dtype=torch.float64)\n",
      "tensor([[ 0.,  0.,  0.,  0.],\n",
      "        [ 0.,  0.,  0.,  0.],\n",
      "        [ 0.,  0.,  0.,  0.],\n",
      "        [ 0.,  0.,  0.,  0.],\n",
      "        [ 0.,  0.,  0.,  0.]], dtype=torch.float64)\n",
      "tensor([[ 1.1964,  0.8771,  0.9822,  0.6385],\n",
      "        [ 1.3432,  0.7019,  1.8241,  1.4038],\n",
      "        [ 0.1490,  1.1293,  0.8530,  0.4588],\n",
      "        [ 1.3024,  1.1767,  0.7650,  1.3159],\n",
      "        [ 0.5804,  1.5035,  1.4667,  0.8033]], dtype=torch.float64)\n",
      "tensor([[ 1.1964,  0.8771,  0.9822,  0.6385],\n",
      "        [ 1.3432,  0.7019,  1.8241,  1.4038],\n",
      "        [ 0.1490,  1.1293,  0.8530,  0.4588],\n",
      "        [ 1.3024,  1.1767,  0.7650,  1.3159],\n",
      "        [ 0.5804,  1.5035,  1.4667,  0.8033]], dtype=torch.float64)\n"
     ]
    }
   ],
   "source": [
    "z = x + y\n",
    "print(z)\n",
    "\n",
    "z = torch.add(x,y)\n",
    "print(z)\n",
    "\n",
    "z = x.new_zeros(x.size())\n",
    "print(z)\n",
    "\n",
    "torch.add(x,y, out=z)\n",
    "print(z)\n",
    "\n",
    "y.add_(x)\n",
    "print(y)"
   ]
  },
  {
   "cell_type": "code",
   "execution_count": 86,
   "metadata": {},
   "outputs": [
    {
     "name": "stdout",
     "output_type": "stream",
     "text": [
      "tensor([[ 0.2907,  0.5893,  0.9967],\n",
      "        [ 0.4918,  0.1233,  0.4416],\n",
      "        [ 0.3348,  0.7893,  0.1919],\n",
      "        [ 0.5406,  0.1234,  0.9493],\n",
      "        [ 0.6363,  0.2944,  0.2143]])\n",
      "tensor([[ 0.,  0.,  0.],\n",
      "        [ 0.,  0.,  0.],\n",
      "        [ 0.,  0.,  0.],\n",
      "        [ 0.,  0.,  0.],\n",
      "        [ 0.,  0.,  0.]])\n",
      "tensor([[ 0.2907,  0.4918,  0.3348,  0.5406,  0.6363],\n",
      "        [ 0.5893,  0.1233,  0.7893,  0.1234,  0.2944],\n",
      "        [ 0.9967,  0.4416,  0.1919,  0.9493,  0.2143]])\n",
      "tensor([[ 0.,  0.,  0.],\n",
      "        [ 0.,  0.,  0.],\n",
      "        [ 0.,  0.,  0.],\n",
      "        [ 0.,  0.,  0.],\n",
      "        [ 0.,  0.,  0.]])\n"
     ]
    }
   ],
   "source": [
    "# Any operation that mutates a tensor in-place is post-fixed with an _. \n",
    "# For example: x.copy_(y), x.t_(), will change x.\n",
    "\n",
    "x = torch.rand(5,3)\n",
    "print(x)\n",
    "\n",
    "y = torch.zeros(5,3)\n",
    "print(y)\n",
    "\n",
    "x.t_()\n",
    "print(x)\n",
    "\n",
    "x.t_()\n",
    "x.copy_(y)\n",
    "print(x)"
   ]
  },
  {
   "cell_type": "code",
   "execution_count": 87,
   "metadata": {},
   "outputs": [
    {
     "name": "stdout",
     "output_type": "stream",
     "text": [
      "tensor([[  1,   2,   3,   4],\n",
      "        [  5,   6,   7,   8],\n",
      "        [  9,  10,  11,  12]])\n"
     ]
    },
    {
     "data": {
      "text/plain": [
       "tensor([[  5,   6],\n",
       "        [  9,  10]])"
      ]
     },
     "execution_count": 87,
     "metadata": {},
     "output_type": "execute_result"
    }
   ],
   "source": [
    "x = torch.tensor([[1,2,3,4], [5,6,7,8], [9, 10, 11, 12]])\n",
    "print(x)\n",
    "x[1:3, :2] # row 1 and 2, column 0 and 1"
   ]
  },
  {
   "cell_type": "code",
   "execution_count": 88,
   "metadata": {},
   "outputs": [
    {
     "name": "stdout",
     "output_type": "stream",
     "text": [
      "torch.Size([3, 4])\n",
      "tensor([[  1,   2,   3],\n",
      "        [  4,   5,   6],\n",
      "        [  7,   8,   9],\n",
      "        [ 10,  11,  12]])\n",
      "torch.Size([4, 3])\n",
      "tensor([[  1,   2],\n",
      "        [  3,   4],\n",
      "        [  5,   6],\n",
      "        [  7,   8],\n",
      "        [  9,  10],\n",
      "        [ 11,  12]])\n",
      "torch.Size([6, 2])\n",
      "tensor([[  1],\n",
      "        [  2],\n",
      "        [  3],\n",
      "        [  4],\n",
      "        [  5],\n",
      "        [  6],\n",
      "        [  7],\n",
      "        [  8],\n",
      "        [  9],\n",
      "        [ 10],\n",
      "        [ 11],\n",
      "        [ 12]])\n",
      "torch.Size([12, 1])\n",
      "tensor([  1,   2,   3,   4,   5,   6,   7,   8,   9,  10,  11,  12])\n",
      "torch.Size([12])\n"
     ]
    }
   ],
   "source": [
    "# Playing with resizing, attempting to convert \n",
    "x = torch.tensor([[1,2,3,4], [5,6,7,8], [9, 10, 11, 12]])\n",
    "print(x.size())\n",
    "\n",
    "a = x.view(4,-1) # expected 4,3 \n",
    "print(a)\n",
    "print(a.size())\n",
    "\n",
    "b = x.view(6,2)\n",
    "print(b)\n",
    "print(b.size())\n",
    "\n",
    "c = x.view(12,1)\n",
    "print(c)\n",
    "print(c.size())\n",
    "\n",
    "d = x.view(12)\n",
    "print(d)\n",
    "print(d.size())"
   ]
  },
  {
   "cell_type": "code",
   "execution_count": 89,
   "metadata": {},
   "outputs": [
    {
     "name": "stdout",
     "output_type": "stream",
     "text": [
      "tensor([[  1,   2,   3,   4],\n",
      "        [  5,   6,   7,   8],\n",
      "        [  9,  10,  11,  12]])\n",
      "tensor(1)\n",
      "1\n",
      "<class 'int'>\n"
     ]
    }
   ],
   "source": [
    "print(x)\n",
    "print(x[0,0])\n",
    "print(x[0,0].item())\n",
    "print(type(x[0,0].item()))"
   ]
  },
  {
   "cell_type": "markdown",
   "metadata": {},
   "source": [
    "## 3. Numpy Bridge"
   ]
  },
  {
   "cell_type": "code",
   "execution_count": 90,
   "metadata": {},
   "outputs": [
    {
     "name": "stdout",
     "output_type": "stream",
     "text": [
      "tensor([[  1,   2,   3,   4],\n",
      "        [  5,   6,   7,   8],\n",
      "        [  9,  10,  11,  12]])\n",
      "[[ 1  2  3  4]\n",
      " [ 5  6  7  8]\n",
      " [ 9 10 11 12]]\n",
      "<class 'numpy.ndarray'>\n",
      "tensor([[ 101,  102,  103,  104],\n",
      "        [ 105,  106,  107,  108],\n",
      "        [ 109,  110,  111,  112]])\n"
     ]
    }
   ],
   "source": [
    "x = torch.tensor([[1,2,3,4], [5,6,7,8], [9, 10, 11, 12]])\n",
    "print(x)\n",
    "\n",
    "x_np = x.numpy()\n",
    "print(x_np)\n",
    "print(type(x_np))\n",
    "\n",
    "x.add_(100)\n",
    "print(x)"
   ]
  },
  {
   "cell_type": "code",
   "execution_count": 91,
   "metadata": {},
   "outputs": [
    {
     "name": "stdout",
     "output_type": "stream",
     "text": [
      "[1. 1. 1. 1. 1.]\n",
      "tensor([ 1.,  1.,  1.,  1.,  1.], dtype=torch.float64)\n",
      "\n",
      "Inplace update to a changes b\n",
      "[2. 2. 2. 2. 2.]\n",
      "tensor([ 2.,  2.,  2.,  2.,  2.], dtype=torch.float64)\n",
      "\n",
      "Apparently using assignment operater assigns a to a new object and tensor remains unchanged\n",
      "[3. 3. 3. 3. 3.]\n",
      "tensor([ 2.,  2.,  2.,  2.,  2.], dtype=torch.float64)\n",
      "\n",
      "Trying assignment (=) and addition (+) operators. Tensor remains unaffected as expected\n",
      "[0. 0. 0. 0. 0.]\n",
      "tensor([ 0.,  0.,  0.,  0.,  0.], dtype=torch.float64)\n",
      "[10. 10. 10. 10. 10.]\n",
      "tensor([ 0.,  0.,  0.,  0.,  0.], dtype=torch.float64)\n"
     ]
    }
   ],
   "source": [
    "a = np.ones(5)\n",
    "print(a)\n",
    "\n",
    "b = torch.from_numpy(a)\n",
    "print(b)\n",
    "\n",
    "print(\"\\nInplace update to a changes b\")\n",
    "np.add(a, 1, out=a) # See how changing the np array changed the Torch Tensor automatically\n",
    "\n",
    "print(a)\n",
    "print(b)\n",
    "\n",
    "print(\"\\nApparently using assignment operater assigns a to a new object and tensor remains unchanged\")\n",
    "a = np.add(a, 1)\n",
    "print(a)\n",
    "print(b)\n",
    "\n",
    "\n",
    "print(\"\\nTrying assignment (=) and addition (+) operators. Tensor remains unaffected as expected\")\n",
    "a = np.zeros(5)\n",
    "b = torch.from_numpy(a)\n",
    "print(a)\n",
    "print(b)\n",
    "\n",
    "a = a + 10\n",
    "print(a)\n",
    "print(b)"
   ]
  },
  {
   "cell_type": "markdown",
   "metadata": {},
   "source": [
    "## 4. CUDA Tensors"
   ]
  },
  {
   "cell_type": "code",
   "execution_count": 92,
   "metadata": {},
   "outputs": [
    {
     "name": "stdout",
     "output_type": "stream",
     "text": [
      "tensor([[ 0.9944,  0.5702,  0.3273],\n",
      "        [ 0.0046,  0.8970,  0.2022],\n",
      "        [ 0.5737,  0.3454,  0.6855],\n",
      "        [ 0.0337,  0.9575,  0.2402],\n",
      "        [ 0.0974,  0.8700,  0.6338]])\n",
      "tensor([[ 0.9944,  0.5702,  0.3273],\n",
      "        [ 0.0046,  0.8970,  0.2022],\n",
      "        [ 0.5737,  0.3454,  0.6855],\n",
      "        [ 0.0337,  0.9575,  0.2402],\n",
      "        [ 0.0974,  0.8700,  0.6338]], device='cuda:0')\n",
      "tensor([[ 0.1278,  0.7154,  0.6034],\n",
      "        [ 0.0985,  0.9652,  0.9980],\n",
      "        [ 0.3341,  0.6056,  0.2670],\n",
      "        [ 0.5180,  0.6985,  0.5843],\n",
      "        [ 0.9313,  0.5222,  0.1637]])\n",
      "tensor([[ 0.8039,  0.1808,  0.2425],\n",
      "        [ 0.7167,  0.0076,  0.6950],\n",
      "        [ 0.4339,  0.2276,  0.5822],\n",
      "        [ 0.5094,  0.5472,  0.9073],\n",
      "        [ 0.9800,  0.4349,  0.6650]], device='cuda:0')\n",
      "tensor([[ 1.7983,  0.7510,  0.5698],\n",
      "        [ 0.7213,  0.9046,  0.8972],\n",
      "        [ 1.0076,  0.5730,  1.2677],\n",
      "        [ 0.5432,  1.5047,  1.1474],\n",
      "        [ 1.0775,  1.3050,  1.2988]], device='cuda:0')\n",
      "tensor([[ 1.7983,  0.7510,  0.5698],\n",
      "        [ 0.7213,  0.9046,  0.8972],\n",
      "        [ 1.0076,  0.5730,  1.2677],\n",
      "        [ 0.5432,  1.5047,  1.1474],\n",
      "        [ 1.0775,  1.3050,  1.2988]], dtype=torch.float64)\n"
     ]
    }
   ],
   "source": [
    "# Creating x on cpu and moving to GPU\n",
    "x = torch.rand(5,3, device=\"cpu\")\n",
    "x_cuda = x.to(\"cuda\")\n",
    "print(x)\n",
    "print(x_cuda)\n",
    "\n",
    "# Creating y directly on GPU\n",
    "# Que: does set_device work to set device to CUDA by default? Ans: NO. See below.\n",
    "\n",
    "torch.cuda.set_device(0)\n",
    "y = torch.rand(5,3)\n",
    "print(y)\n",
    "\n",
    "y_cuda = torch.rand(5,3, device = \"cuda\")\n",
    "print(y_cuda)\n",
    "\n",
    "# z = x + y_cuda wont work as one is on CPU and other is on CUDA (type )\n",
    "# error message RuntimeError: Expected object of type torch.FloatTensor but found type torch.cuda.FloatTensor for argument #3 'other'\n",
    "z_cuda = x_cuda + y_cuda\n",
    "print(z_cuda)\n",
    "\n",
    "# moving z_cuda back to cpu\n",
    "z = z_cuda.to(\"cpu\", torch.double) # ``.to`` can also change dtype together!\n",
    "print(z)"
   ]
  },
  {
   "cell_type": "code",
   "execution_count": 93,
   "metadata": {},
   "outputs": [
    {
     "name": "stdout",
     "output_type": "stream",
     "text": [
      "tensor([[ 1.9944,  1.5702,  1.3273],\n",
      "        [ 1.0046,  1.8970,  1.2022],\n",
      "        [ 1.5737,  1.3454,  1.6855],\n",
      "        [ 1.0337,  1.9575,  1.2402],\n",
      "        [ 1.0974,  1.8700,  1.6338]], device='cuda:0')\n",
      "tensor([[ 1.9944,  1.5702,  1.3273],\n",
      "        [ 1.0046,  1.8970,  1.2022],\n",
      "        [ 1.5737,  1.3454,  1.6855],\n",
      "        [ 1.0337,  1.9575,  1.2402],\n",
      "        [ 1.0974,  1.8700,  1.6338]], dtype=torch.float64)\n"
     ]
    }
   ],
   "source": [
    "# Original code recommended for this section is as follows: \n",
    "#\n",
    "# let us run this cell only if CUDA is available\n",
    "# We will use ``torch.device`` objects to move tensors in and out of GPU\n",
    "if torch.cuda.is_available():\n",
    "    device = torch.device(\"cuda\")          # a CUDA device object\n",
    "    y = torch.ones_like(x, device=device)  # directly create a tensor on GPU\n",
    "    x = x.to(device)                       # or just use strings ``.to(\"cuda\")``\n",
    "    z = x + y\n",
    "    print(z)\n",
    "    print(z.to(\"cpu\", torch.double))       # ``.to`` can also change dtype together!"
   ]
  },
  {
   "cell_type": "code",
   "execution_count": null,
   "metadata": {},
   "outputs": [],
   "source": []
  }
 ],
 "metadata": {
  "kernelspec": {
   "display_name": "Python 3",
   "language": "python",
   "name": "python3"
  },
  "language_info": {
   "codemirror_mode": {
    "name": "ipython",
    "version": 3
   },
   "file_extension": ".py",
   "mimetype": "text/x-python",
   "name": "python",
   "nbconvert_exporter": "python",
   "pygments_lexer": "ipython3",
   "version": "3.6.5"
  }
 },
 "nbformat": 4,
 "nbformat_minor": 2
}
