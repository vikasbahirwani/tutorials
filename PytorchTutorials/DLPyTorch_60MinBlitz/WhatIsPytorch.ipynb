{
 "cells": [
  {
   "cell_type": "markdown",
   "metadata": {},
   "source": [
    "Tutorial URL: https://pytorch.org/tutorials/beginner/blitz/tensor_tutorial.html#sphx-glr-beginner-blitz-tensor-tutorial-py"
   ]
  },
  {
   "cell_type": "markdown",
   "metadata": {},
   "source": [
    "#  Deep Learning with PyTorch: A 60 Minute Blitz » What is PyTorch?"
   ]
  },
  {
   "cell_type": "code",
   "execution_count": 1,
   "metadata": {},
   "outputs": [],
   "source": [
    "# preamble\n",
    "import torch\n",
    "import numpy as np"
   ]
  },
  {
   "cell_type": "markdown",
   "metadata": {},
   "source": [
    "## 1. Creating Tensors"
   ]
  },
  {
   "cell_type": "code",
   "execution_count": 2,
   "metadata": {},
   "outputs": [
    {
     "name": "stdout",
     "output_type": "stream",
     "text": [
      "tensor([[ 5.8149e-34,  4.5800e-41,  5.8149e-34],\n",
      "        [ 4.5800e-41,  0.0000e+00,  0.0000e+00],\n",
      "        [ 4.6994e-41,  1.4013e-45,  0.0000e+00],\n",
      "        [ 0.0000e+00,  0.0000e+00,  0.0000e+00],\n",
      "        [-2.8214e+36,  4.5799e-41,  1.3593e-43]])\n",
      "tensor([[ 0.4176,  0.2061,  0.9532],\n",
      "        [ 0.2701,  0.5799,  0.4466],\n",
      "        [ 0.6410,  0.0002,  0.1323],\n",
      "        [ 0.9244,  0.4332,  0.9404],\n",
      "        [ 0.5329,  0.9482,  0.8269]])\n",
      "tensor([[ 0,  0,  0],\n",
      "        [ 0,  0,  0],\n",
      "        [ 0,  0,  0],\n",
      "        [ 0,  0,  0],\n",
      "        [ 0,  0,  0]])\n"
     ]
    }
   ],
   "source": [
    "x = torch.empty(5,3)\n",
    "print(x)\n",
    "\n",
    "x = torch.rand(5,3)\n",
    "print(x)\n",
    "\n",
    "x = torch.zeros(5,3, dtype=torch.long)\n",
    "print(x)"
   ]
  },
  {
   "cell_type": "code",
   "execution_count": 3,
   "metadata": {},
   "outputs": [
    {
     "name": "stdout",
     "output_type": "stream",
     "text": [
      "tensor([[ 5,  4,  3],\n",
      "        [ 2,  1,  3]])\n",
      "tensor([[ 1,  1,  1],\n",
      "        [ 1,  1,  1],\n",
      "        [ 1,  1,  1],\n",
      "        [ 1,  1,  1],\n",
      "        [ 1,  1,  1]])\n",
      "tensor([[ 1.,  1.,  1.,  1.],\n",
      "        [ 1.,  1.,  1.,  1.],\n",
      "        [ 1.,  1.,  1.,  1.],\n",
      "        [ 1.,  1.,  1.,  1.],\n",
      "        [ 1.,  1.,  1.,  1.]])\n",
      "tensor([[ 0.8676,  0.7067,  0.9592,  0.3331],\n",
      "        [ 0.9716,  0.8013,  0.5994,  0.8046],\n",
      "        [ 0.6125,  0.1008,  0.8858,  0.4930],\n",
      "        [ 0.3598,  0.0210,  0.0999,  0.2597],\n",
      "        [ 0.5440,  0.1891,  0.6431,  0.9837]])\n",
      "tensor([[ 0.6960,  0.4625,  0.6449,  0.3998],\n",
      "        [ 0.4955,  0.0599,  0.6374,  0.4669],\n",
      "        [ 0.3090,  0.9047,  0.4336,  0.3443],\n",
      "        [ 0.3055,  0.0313,  0.2712,  0.2576],\n",
      "        [ 0.6524,  0.0862,  0.1550,  0.7709]], dtype=torch.float64)\n"
     ]
    }
   ],
   "source": [
    "x = torch.tensor([[5,4,3], [2,1,3]])\n",
    "print(x)\n",
    "\n",
    "x = x.new_ones(5,3) # new_* methods take in sizes\n",
    "print(x)\n",
    "\n",
    "x = x.new_ones(5,4, dtype=torch.float)\n",
    "print(x)\n",
    "\n",
    "x = torch.rand_like(x)\n",
    "print(x)\n",
    "\n",
    "x = torch.rand_like(x, dtype=torch.double)\n",
    "print(x)"
   ]
  },
  {
   "cell_type": "code",
   "execution_count": 4,
   "metadata": {},
   "outputs": [
    {
     "name": "stdout",
     "output_type": "stream",
     "text": [
      "<class 'torch.Tensor'>\n",
      "torch.float64\n",
      "torch.Size([5, 4])\n",
      "torch.Size([5, 4])\n",
      "4\n"
     ]
    }
   ],
   "source": [
    "print(type(x))\n",
    "print(x.dtype)\n",
    "print(x.shape)\n",
    "print(x.size())\n",
    "print(x.shape[1])\n",
    "\n",
    "# torch.Size is in fact a tuple, so it supports all tuple operations."
   ]
  },
  {
   "cell_type": "markdown",
   "metadata": {},
   "source": [
    "## 2 Operations"
   ]
  },
  {
   "cell_type": "code",
   "execution_count": 5,
   "metadata": {},
   "outputs": [
    {
     "name": "stdout",
     "output_type": "stream",
     "text": [
      "tensor([[ 0.8603,  0.4662,  0.5908,  0.3625],\n",
      "        [ 0.6159,  0.1536,  0.4698,  0.9551],\n",
      "        [ 0.3321,  0.1573,  0.7294,  0.6436],\n",
      "        [ 0.6272,  0.1768,  0.5618,  0.0194],\n",
      "        [ 0.1556,  0.6656,  0.8483,  0.6424]], dtype=torch.float64)\n"
     ]
    }
   ],
   "source": [
    "y = torch.rand_like(x)\n",
    "print(y)"
   ]
  },
  {
   "cell_type": "code",
   "execution_count": 6,
   "metadata": {},
   "outputs": [
    {
     "name": "stdout",
     "output_type": "stream",
     "text": [
      "tensor([[ 1.5564,  0.9287,  1.2357,  0.7623],\n",
      "        [ 1.1114,  0.2135,  1.1073,  1.4221],\n",
      "        [ 0.6411,  1.0620,  1.1630,  0.9879],\n",
      "        [ 0.9327,  0.2081,  0.8331,  0.2770],\n",
      "        [ 0.8080,  0.7517,  1.0033,  1.4133]], dtype=torch.float64)\n",
      "tensor([[ 1.5564,  0.9287,  1.2357,  0.7623],\n",
      "        [ 1.1114,  0.2135,  1.1073,  1.4221],\n",
      "        [ 0.6411,  1.0620,  1.1630,  0.9879],\n",
      "        [ 0.9327,  0.2081,  0.8331,  0.2770],\n",
      "        [ 0.8080,  0.7517,  1.0033,  1.4133]], dtype=torch.float64)\n",
      "tensor([[ 0.,  0.,  0.,  0.],\n",
      "        [ 0.,  0.,  0.,  0.],\n",
      "        [ 0.,  0.,  0.,  0.],\n",
      "        [ 0.,  0.,  0.,  0.],\n",
      "        [ 0.,  0.,  0.,  0.]], dtype=torch.float64)\n",
      "tensor([[ 1.5564,  0.9287,  1.2357,  0.7623],\n",
      "        [ 1.1114,  0.2135,  1.1073,  1.4221],\n",
      "        [ 0.6411,  1.0620,  1.1630,  0.9879],\n",
      "        [ 0.9327,  0.2081,  0.8331,  0.2770],\n",
      "        [ 0.8080,  0.7517,  1.0033,  1.4133]], dtype=torch.float64)\n",
      "tensor([[ 1.5564,  0.9287,  1.2357,  0.7623],\n",
      "        [ 1.1114,  0.2135,  1.1073,  1.4221],\n",
      "        [ 0.6411,  1.0620,  1.1630,  0.9879],\n",
      "        [ 0.9327,  0.2081,  0.8331,  0.2770],\n",
      "        [ 0.8080,  0.7517,  1.0033,  1.4133]], dtype=torch.float64)\n"
     ]
    }
   ],
   "source": [
    "z = x + y\n",
    "print(z)\n",
    "\n",
    "z = torch.add(x,y)\n",
    "print(z)\n",
    "\n",
    "z = x.new_zeros(x.size())\n",
    "print(z)\n",
    "\n",
    "torch.add(x,y, out=z)\n",
    "print(z)\n",
    "\n",
    "y.add_(x)\n",
    "print(y)"
   ]
  },
  {
   "cell_type": "code",
   "execution_count": 7,
   "metadata": {},
   "outputs": [
    {
     "name": "stdout",
     "output_type": "stream",
     "text": [
      "tensor([[ 0.3041,  0.7868,  0.6449],\n",
      "        [ 0.6496,  0.4086,  0.9860],\n",
      "        [ 0.0579,  0.9318,  0.3068],\n",
      "        [ 0.2975,  0.0594,  0.0370],\n",
      "        [ 0.2659,  0.5434,  0.5602]])\n",
      "tensor([[ 0.,  0.,  0.],\n",
      "        [ 0.,  0.,  0.],\n",
      "        [ 0.,  0.,  0.],\n",
      "        [ 0.,  0.,  0.],\n",
      "        [ 0.,  0.,  0.]])\n",
      "tensor([[ 0.3041,  0.6496,  0.0579,  0.2975,  0.2659],\n",
      "        [ 0.7868,  0.4086,  0.9318,  0.0594,  0.5434],\n",
      "        [ 0.6449,  0.9860,  0.3068,  0.0370,  0.5602]])\n",
      "tensor([[ 0.,  0.,  0.],\n",
      "        [ 0.,  0.,  0.],\n",
      "        [ 0.,  0.,  0.],\n",
      "        [ 0.,  0.,  0.],\n",
      "        [ 0.,  0.,  0.]])\n"
     ]
    }
   ],
   "source": [
    "# Any operation that mutates a tensor in-place is post-fixed with an _. \n",
    "# For example: x.copy_(y), x.t_(), will change x.\n",
    "\n",
    "x = torch.rand(5,3)\n",
    "print(x)\n",
    "\n",
    "y = torch.zeros(5,3)\n",
    "print(y)\n",
    "\n",
    "x.t_()\n",
    "print(x)\n",
    "\n",
    "x.t_()\n",
    "x.copy_(y)\n",
    "print(x)"
   ]
  },
  {
   "cell_type": "code",
   "execution_count": 8,
   "metadata": {},
   "outputs": [
    {
     "name": "stdout",
     "output_type": "stream",
     "text": [
      "tensor([[  1,   2,   3,   4],\n",
      "        [  5,   6,   7,   8],\n",
      "        [  9,  10,  11,  12]])\n"
     ]
    },
    {
     "data": {
      "text/plain": [
       "tensor([[  5,   6],\n",
       "        [  9,  10]])"
      ]
     },
     "execution_count": 8,
     "metadata": {},
     "output_type": "execute_result"
    }
   ],
   "source": [
    "x = torch.tensor([[1,2,3,4], [5,6,7,8], [9, 10, 11, 12]])\n",
    "print(x)\n",
    "x[1:3, :2] # row 1 and 2, column 0 and 1"
   ]
  },
  {
   "cell_type": "code",
   "execution_count": 9,
   "metadata": {},
   "outputs": [
    {
     "name": "stdout",
     "output_type": "stream",
     "text": [
      "torch.Size([3, 4])\n",
      "tensor([[  1,   2,   3],\n",
      "        [  4,   5,   6],\n",
      "        [  7,   8,   9],\n",
      "        [ 10,  11,  12]])\n",
      "torch.Size([4, 3])\n",
      "tensor([[  1,   2],\n",
      "        [  3,   4],\n",
      "        [  5,   6],\n",
      "        [  7,   8],\n",
      "        [  9,  10],\n",
      "        [ 11,  12]])\n",
      "torch.Size([6, 2])\n",
      "tensor([[  1],\n",
      "        [  2],\n",
      "        [  3],\n",
      "        [  4],\n",
      "        [  5],\n",
      "        [  6],\n",
      "        [  7],\n",
      "        [  8],\n",
      "        [  9],\n",
      "        [ 10],\n",
      "        [ 11],\n",
      "        [ 12]])\n",
      "torch.Size([12, 1])\n",
      "tensor([  1,   2,   3,   4,   5,   6,   7,   8,   9,  10,  11,  12])\n",
      "torch.Size([12])\n"
     ]
    }
   ],
   "source": [
    "# Playing with resizing, attempting to convert \n",
    "x = torch.tensor([[1,2,3,4], [5,6,7,8], [9, 10, 11, 12]])\n",
    "print(x.size())\n",
    "\n",
    "a = x.view(4,-1) # expected 4,3 \n",
    "print(a)\n",
    "print(a.size())\n",
    "\n",
    "b = x.view(6,2)\n",
    "print(b)\n",
    "print(b.size())\n",
    "\n",
    "c = x.view(12,1)\n",
    "print(c)\n",
    "print(c.size())\n",
    "\n",
    "d = x.view(12)\n",
    "print(d)\n",
    "print(d.size())"
   ]
  },
  {
   "cell_type": "code",
   "execution_count": 10,
   "metadata": {},
   "outputs": [
    {
     "name": "stdout",
     "output_type": "stream",
     "text": [
      "tensor([[  1,   2,   3,   4],\n",
      "        [  5,   6,   7,   8],\n",
      "        [  9,  10,  11,  12]])\n",
      "tensor(1)\n",
      "1\n",
      "<class 'int'>\n"
     ]
    }
   ],
   "source": [
    "print(x)\n",
    "print(x[0,0])\n",
    "print(x[0,0].item())\n",
    "print(type(x[0,0].item()))"
   ]
  },
  {
   "cell_type": "markdown",
   "metadata": {},
   "source": [
    "## 3. Numpy Bridge"
   ]
  },
  {
   "cell_type": "code",
   "execution_count": 11,
   "metadata": {},
   "outputs": [
    {
     "name": "stdout",
     "output_type": "stream",
     "text": [
      "tensor([[  1,   2,   3,   4],\n",
      "        [  5,   6,   7,   8],\n",
      "        [  9,  10,  11,  12]])\n",
      "[[ 1  2  3  4]\n",
      " [ 5  6  7  8]\n",
      " [ 9 10 11 12]]\n",
      "<class 'numpy.ndarray'>\n",
      "tensor([[ 101,  102,  103,  104],\n",
      "        [ 105,  106,  107,  108],\n",
      "        [ 109,  110,  111,  112]])\n"
     ]
    }
   ],
   "source": [
    "x = torch.tensor([[1,2,3,4], [5,6,7,8], [9, 10, 11, 12]])\n",
    "print(x)\n",
    "\n",
    "x_np = x.numpy()\n",
    "print(x_np)\n",
    "print(type(x_np))\n",
    "\n",
    "x.add_(100)\n",
    "print(x)"
   ]
  },
  {
   "cell_type": "code",
   "execution_count": 12,
   "metadata": {},
   "outputs": [
    {
     "name": "stdout",
     "output_type": "stream",
     "text": [
      "[1. 1. 1. 1. 1.]\n",
      "tensor([ 1.,  1.,  1.,  1.,  1.], dtype=torch.float64)\n",
      "\n",
      "Inplace update to a changes b\n",
      "[2. 2. 2. 2. 2.]\n",
      "tensor([ 2.,  2.,  2.,  2.,  2.], dtype=torch.float64)\n",
      "\n",
      "Apparently using assignment operater assigns a to a new object and tensor remains unchanged\n",
      "[3. 3. 3. 3. 3.]\n",
      "tensor([ 2.,  2.,  2.,  2.,  2.], dtype=torch.float64)\n",
      "\n",
      "Trying assignment (=) and addition (+) operators. Tensor remains unaffected as expected\n",
      "[0. 0. 0. 0. 0.]\n",
      "tensor([ 0.,  0.,  0.,  0.,  0.], dtype=torch.float64)\n",
      "[10. 10. 10. 10. 10.]\n",
      "tensor([ 0.,  0.,  0.,  0.,  0.], dtype=torch.float64)\n"
     ]
    }
   ],
   "source": [
    "a = np.ones(5)\n",
    "print(a)\n",
    "\n",
    "b = torch.from_numpy(a)\n",
    "print(b)\n",
    "\n",
    "print(\"\\nInplace update to a changes b\")\n",
    "np.add(a, 1, out=a) # See how changing the np array changed the Torch Tensor automatically\n",
    "\n",
    "print(a)\n",
    "print(b)\n",
    "\n",
    "print(\"\\nApparently using assignment operater assigns a to a new object and tensor remains unchanged\")\n",
    "a = np.add(a, 1)\n",
    "print(a)\n",
    "print(b)\n",
    "\n",
    "\n",
    "print(\"\\nTrying assignment (=) and addition (+) operators. Tensor remains unaffected as expected\")\n",
    "a = np.zeros(5)\n",
    "b = torch.from_numpy(a)\n",
    "print(a)\n",
    "print(b)\n",
    "\n",
    "a = a + 10\n",
    "print(a)\n",
    "print(b)"
   ]
  },
  {
   "cell_type": "markdown",
   "metadata": {},
   "source": [
    "## 4. CUDA Tensors"
   ]
  },
  {
   "cell_type": "code",
   "execution_count": 13,
   "metadata": {},
   "outputs": [
    {
     "name": "stdout",
     "output_type": "stream",
     "text": [
      "tensor([[ 0.0520,  0.5569,  0.7164],\n",
      "        [ 0.0621,  0.3907,  0.1893],\n",
      "        [ 0.2425,  0.5678,  0.9082],\n",
      "        [ 0.1718,  0.0298,  0.5691],\n",
      "        [ 0.5364,  0.3082,  0.8133]])\n",
      "tensor([[ 0.0520,  0.5569,  0.7164],\n",
      "        [ 0.0621,  0.3907,  0.1893],\n",
      "        [ 0.2425,  0.5678,  0.9082],\n",
      "        [ 0.1718,  0.0298,  0.5691],\n",
      "        [ 0.5364,  0.3082,  0.8133]], device='cuda:0')\n",
      "tensor([[ 0.1925,  0.4294,  0.1796],\n",
      "        [ 0.3913,  0.9407,  0.6532],\n",
      "        [ 0.2557,  0.9519,  0.3528],\n",
      "        [ 0.6666,  0.3100,  0.4265],\n",
      "        [ 0.2423,  0.4710,  0.2090]])\n",
      "tensor([[ 0.8610,  0.5125,  0.4972],\n",
      "        [ 0.9320,  0.1106,  0.8006],\n",
      "        [ 0.3021,  0.7754,  0.0717],\n",
      "        [ 0.2022,  0.6917,  0.9921],\n",
      "        [ 0.1965,  0.5515,  0.7266]], device='cuda:0')\n",
      "tensor([[ 0.9129,  1.0694,  1.2136],\n",
      "        [ 0.9940,  0.5013,  0.9899],\n",
      "        [ 0.5446,  1.3432,  0.9799],\n",
      "        [ 0.3740,  0.7215,  1.5612],\n",
      "        [ 0.7329,  0.8598,  1.5399]], device='cuda:0')\n",
      "tensor([[ 0.9129,  1.0694,  1.2136],\n",
      "        [ 0.9940,  0.5013,  0.9899],\n",
      "        [ 0.5446,  1.3432,  0.9799],\n",
      "        [ 0.3740,  0.7215,  1.5612],\n",
      "        [ 0.7329,  0.8598,  1.5399]], dtype=torch.float64)\n"
     ]
    }
   ],
   "source": [
    "# Creating x on cpu and moving to GPU\n",
    "x = torch.rand(5,3, device=\"cpu\")\n",
    "x_cuda = x.to(\"cuda\")\n",
    "print(x)\n",
    "print(x_cuda)\n",
    "\n",
    "# Creating y directly on GPU\n",
    "# Que: does set_device work to set device to CUDA by default? Ans: NO. See below.\n",
    "\n",
    "torch.cuda.set_device(0)\n",
    "y = torch.rand(5,3)\n",
    "print(y)\n",
    "\n",
    "y_cuda = torch.rand(5,3, device = \"cuda\")\n",
    "print(y_cuda)\n",
    "\n",
    "# z = x + y_cuda wont work as one is on CPU and other is on CUDA (type )\n",
    "# error message RuntimeError: Expected object of type torch.FloatTensor but found type torch.cuda.FloatTensor for argument #3 'other'\n",
    "z_cuda = x_cuda + y_cuda\n",
    "print(z_cuda)\n",
    "\n",
    "# moving z_cuda back to cpu\n",
    "z = z_cuda.to(\"cpu\", torch.double) # ``.to`` can also change dtype together!\n",
    "print(z)"
   ]
  },
  {
   "cell_type": "code",
   "execution_count": 14,
   "metadata": {},
   "outputs": [
    {
     "name": "stdout",
     "output_type": "stream",
     "text": [
      "tensor([[ 1.0520,  1.5569,  1.7164],\n",
      "        [ 1.0621,  1.3907,  1.1893],\n",
      "        [ 1.2425,  1.5678,  1.9082],\n",
      "        [ 1.1718,  1.0298,  1.5691],\n",
      "        [ 1.5364,  1.3082,  1.8133]], device='cuda:0')\n",
      "tensor([[ 1.0520,  1.5569,  1.7164],\n",
      "        [ 1.0621,  1.3907,  1.1893],\n",
      "        [ 1.2425,  1.5678,  1.9082],\n",
      "        [ 1.1718,  1.0298,  1.5691],\n",
      "        [ 1.5364,  1.3082,  1.8133]], dtype=torch.float64)\n"
     ]
    }
   ],
   "source": [
    "# Original code recommended for this section is as follows: \n",
    "#\n",
    "# let us run this cell only if CUDA is available\n",
    "# We will use ``torch.device`` objects to move tensors in and out of GPU\n",
    "if torch.cuda.is_available():\n",
    "    device = torch.device(\"cuda\")          # a CUDA device object\n",
    "    y = torch.ones_like(x, device=device)  # directly create a tensor on GPU\n",
    "    x = x.to(device)                       # or just use strings ``.to(\"cuda\")``\n",
    "    z = x + y\n",
    "    print(z)\n",
    "    print(z.to(\"cpu\", torch.double))       # ``.to`` can also change dtype together!"
   ]
  },
  {
   "cell_type": "code",
   "execution_count": null,
   "metadata": {},
   "outputs": [],
   "source": []
  }
 ],
 "metadata": {
  "kernelspec": {
   "display_name": "Python 3",
   "language": "python",
   "name": "python3"
  },
  "language_info": {
   "codemirror_mode": {
    "name": "ipython",
    "version": 3
   },
   "file_extension": ".py",
   "mimetype": "text/x-python",
   "name": "python",
   "nbconvert_exporter": "python",
   "pygments_lexer": "ipython3",
   "version": "3.6.5"
  }
 },
 "nbformat": 4,
 "nbformat_minor": 2
}
